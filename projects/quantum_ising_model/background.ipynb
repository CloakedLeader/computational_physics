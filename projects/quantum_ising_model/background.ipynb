{
 "cells": [
  {
   "cell_type": "markdown",
   "id": "e56d37ce",
   "metadata": {},
   "source": [
    "# The Setup\n",
    "\n",
    "This simulation will use a 1d chain of N spin-$\\frac{1}{2}$ particles subjected to an external magnetic field, perpendicular to their spin. \n",
    "There are two competing effects, the particles want to align to the spins of their neighbours (ferromagnetism), but the external magnetic field is trying to flip their spin.\n",
    "\n",
    "# The Maths\n",
    "\n",
    "The state of the system is specified by a state vector which gives weights to each possible state of the system. For a 2 particle system there are 4 possible configurations of the particles (in general its $2^N$):\n",
    "$$|\\uparrow\\uparrow>, |\\uparrow\\downarrow>, |\\downarrow\\uparrow>, |\\downarrow\\downarrow>$$\n",
    "and the state vector is some linear superposition of these states:\n",
    "$$|\\psi> = a_1|\\uparrow\\uparrow> + a_2|\\uparrow\\downarrow> + a_3|\\downarrow\\uparrow> + a_4|\\downarrow\\downarrow>$$\n",
    "\n",
    "The Hamiltonian which acts on these 4x1 vector must be a 4x4 matrix. You can see that the dimensions of the Hamiltonian grows very quickly with the number of particles. This means it is not feasible to do these kinds of simulations for systems of more than 10 particles. \n",
    "\n",
    "## The Hamiltonian\n",
    "\n",
    "As we have already seen, there are two competing effects at play. Firstly the Ising Coupling (ferromagnetism) which is that neighbouring spins want to align with each other. Turning the spin variables from the classical Ising model into their operator counter parts we get:\n",
    "$$-J\\sum_i\\sigma^{z}_i\\sigma^{z}_{i+1}$$\n",
    "\n",
    "For the effects of the external magnetic field, we do the same process of replacing classical variables with operators and arrive at:\n",
    "$$-h\\sum_i\\sigma^x_i$$\n",
    "This term actually makes alot of sense. Using our knowledge of spinors, we know that the x-pauli matrix 'flips' eigenstates of the z-pauli matrix. So, this term in the Hamiltonian acts to flip the spins of particles in the system. \n",
    "\n",
    "Bringing these together we get the expression for the Hamiltonian of the whole system:\n",
    "$$H = -J\\sum^{N-1}_i\\sigma^{z}_i\\sigma^{z}_{i+1} -h\\sum^N_i\\sigma^x_i$$\n",
    "\n",
    "This is a matrix that dimensions $2^N$ x $2^N$ and acts on the whole state vector at once. This is a big difference to the classical Ising model where we were free to look at each particle indivually and decided if its magnetism should flip. Because this is quantum mechanics we have to consider the entire superposition of the system as we don't know which one the system is actually in. \n",
    "Having to apply this Hamiltonian to the entire state vector looks puzzling because each term in the sum is local, it only takes into consideration an individual particle and its neighbour.\n",
    "\n",
    "Again taking the 4-particle system and taking the first term in the sum (N=1) we get:\n",
    "$$H_1^{(z,z)} = -J(\\sigma^z \\otimes \\sigma^z \\otimes \\mathbf{I} \\otimes \\mathbf{I})$$\n",
    "$$H_1^{(x)} = -h(\\sigma^x \\otimes \\mathbf{I} \\otimes \\mathbf{I} \\otimes \\mathbf{I})$$\n",
    "\n",
    "This continues to find the expressions for the Hamiltonian acting on the other particles ($H_2^{(z,z)}, H_2^{(x)}$ etc.) where each of these 'local' Hamiltonians are 16x16 matrices.\n",
    "Finally, the total Hamiltonian is their sum:\n",
    "$$H = H_1^{(z,z)} + H_2^{(z,z)} + H_3^{(z,z)} + H_1^{(x)} + H_2^{(x)} + H_3^{(x)} +H_4^{(x)} $$\n",
    "\n"
   ]
  },
  {
   "cell_type": "markdown",
   "id": "87d6c124",
   "metadata": {},
   "source": [
    "The expression for 4 particle system has been worked out using the code in main.py and it is given by:\n",
    "$$\n",
    "\\begin{bmatrix}\n",
    "-2 & -1 & -1 &  0 & -1 &  0 &  0 &  0 \\\\\n",
    "-1 &  0 &  0 & -1 &  0 & -1 &  0 &  0 \\\\\n",
    "-1 &  0 &  2 & -1 &  0 &  0 & -1 &  0 \\\\\n",
    " 0 & -1 & -1 &  0 &  0 &  0 &  0 & -1 \\\\\n",
    "-1 &  0 &  0 &  0 &  0 & -1 & -1 &  0 \\\\\n",
    " 0 & -1 &  0 &  0 & -1 &  2 &  0 & -1 \\\\\n",
    " 0 &  0 & -1 &  0 & -1 &  0 &  0 & -1 \\\\\n",
    " 0 &  0 &  0 & -1 &  0 & -1 & -1 & -2\n",
    "\\end{bmatrix}\n",
    "$$\n",
    "\n",
    "##"
   ]
  },
  {
   "cell_type": "markdown",
   "id": "6156cb5f",
   "metadata": {
    "vscode": {
     "languageId": "plaintext"
    }
   },
   "source": [
    "### Eigenstates and Eigenvalues\n",
    "\n",
    "Now that we know the Hamiltonian matrix we can find its eigenvectors and eigenvalues.\n",
    "This matrix has 16 eigenstates (as it is a 16x16 matrix) with eigenvalues ranging from the ground state at -4.76 to 4.76 at the highest excited state.\n"
   ]
  },
  {
   "cell_type": "code",
   "execution_count": null,
   "id": "34857430",
   "metadata": {},
   "outputs": [],
   "source": []
  },
  {
   "cell_type": "markdown",
   "id": "07efbe1e",
   "metadata": {},
   "source": []
  }
 ],
 "metadata": {
  "kernelspec": {
   "display_name": "Python 3",
   "language": "python",
   "name": "python3"
  },
  "language_info": {
   "name": "python",
   "version": "3.10.11"
  }
 },
 "nbformat": 4,
 "nbformat_minor": 5
}
